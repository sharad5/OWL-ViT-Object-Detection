{
 "cells": [
  {
   "cell_type": "code",
   "execution_count": 24,
   "metadata": {},
   "outputs": [],
   "source": [
    "\n",
    "from tqdm import tqdm\n",
    "import torch\n",
    "from torch import nn\n",
    "from torchvision.ops import box_convert\n",
    "import yaml\n",
    "from transformers import OwlViTProcessor, OwlViTForObjectDetection"
   ]
  },
  {
   "cell_type": "code",
   "execution_count": null,
   "metadata": {},
   "outputs": [],
   "source": []
  },
  {
   "cell_type": "code",
   "execution_count": 7,
   "metadata": {},
   "outputs": [],
   "source": [
    "from src.dataset import get_dataloaders\n",
    "from src.losses import ContrastiveDetectionLoss"
   ]
  },
  {
   "cell_type": "code",
   "execution_count": 8,
   "metadata": {},
   "outputs": [],
   "source": [
    "import importlib\n",
    "import src.dataset"
   ]
  },
  {
   "cell_type": "code",
   "execution_count": 9,
   "metadata": {},
   "outputs": [
    {
     "data": {
      "text/plain": [
       "<module 'src.dataset' from '/scratch/sd5251/cap/OWL4PACO/OWL-ViT-Object-Detection/src/dataset.py'>"
      ]
     },
     "execution_count": 9,
     "metadata": {},
     "output_type": "execute_result"
    }
   ],
   "source": [
    "import src.dataset\n",
    "importlib.reload(src.dataset)"
   ]
  },
  {
   "cell_type": "code",
   "execution_count": 10,
   "metadata": {},
   "outputs": [
    {
     "data": {
      "text/plain": [
       "<module 'src.utils' from '/scratch/sd5251/cap/OWL4PACO/OWL-ViT-Object-Detection/src/utils.py'>"
      ]
     },
     "execution_count": 10,
     "metadata": {},
     "output_type": "execute_result"
    }
   ],
   "source": [
    "import src.utils\n",
    "importlib.reload(src.utils)"
   ]
  },
  {
   "cell_type": "code",
   "execution_count": 11,
   "metadata": {},
   "outputs": [],
   "source": [
    "import src.utils\n",
    "importlib.reload(src.losses)\n",
    "from src.losses import ContrastiveDetectionLoss"
   ]
  },
  {
   "cell_type": "code",
   "execution_count": 12,
   "metadata": {},
   "outputs": [
    {
     "data": {
      "text/plain": [
       "'cuda:0'"
      ]
     },
     "execution_count": 12,
     "metadata": {},
     "output_type": "execute_result"
    }
   ],
   "source": [
    "device = \"cuda:0\" if torch.cuda.is_available() else \"cpu\"\n",
    "device"
   ]
  },
  {
   "cell_type": "code",
   "execution_count": 15,
   "metadata": {},
   "outputs": [],
   "source": [
    "processor = OwlViTProcessor.from_pretrained(\"google/owlvit-base-patch32\") # Image Processor + Text Tokenizer\n",
    "model = OwlViTForObjectDetection.from_pretrained(\"google/owlvit-base-patch32\")\n",
    "model = model.to(device)"
   ]
  },
  {
   "cell_type": "code",
   "execution_count": 16,
   "metadata": {},
   "outputs": [],
   "source": [
    "train_dataloader, test_dataloader = get_dataloaders(4, processor)"
   ]
  },
  {
   "cell_type": "code",
   "execution_count": 17,
   "metadata": {},
   "outputs": [],
   "source": [
    "def get_training_config():\n",
    "    with open(\"config.yaml\", \"r\") as stream:\n",
    "        data = yaml.safe_load(stream)\n",
    "        return data[\"training\"]"
   ]
  },
  {
   "cell_type": "code",
   "execution_count": 18,
   "metadata": {},
   "outputs": [],
   "source": [
    "training_cfg = get_training_config()"
   ]
  },
  {
   "cell_type": "code",
   "execution_count": 19,
   "metadata": {},
   "outputs": [],
   "source": [
    "criterion = ContrastiveDetectionLoss()"
   ]
  },
  {
   "cell_type": "code",
   "execution_count": 20,
   "metadata": {},
   "outputs": [],
   "source": [
    "optimizer = torch.optim.AdamW(\n",
    "                model.parameters(),\n",
    "                lr=float(training_cfg[\"learning_rate\"]),\n",
    "                weight_decay=training_cfg[\"weight_decay\"],\n",
    "                )"
   ]
  },
  {
   "cell_type": "code",
   "execution_count": 25,
   "metadata": {},
   "outputs": [
    {
     "name": "stderr",
     "output_type": "stream",
     "text": [
      "\r",
      "  0%|          | 0/100 [00:00<?, ?it/s]"
     ]
    }
   ],
   "source": [
    "num_epochs = training_cfg[\"n_epochs\"]\n",
    "num_training_steps = num_epochs * len(train_dataloader)\n",
    "\n",
    "progress_bar = tqdm(range(num_training_steps))"
   ]
  },
  {
   "cell_type": "code",
   "execution_count": 25,
   "metadata": {
    "scrolled": false
   },
   "outputs": [
    {
     "name": "stderr",
     "output_type": "stream",
     "text": [
      "Loss: 473.836: 100%|██████████| 100/100 [00:45<00:00,  2.58it/s]"
     ]
    }
   ],
   "source": [
    "model.train()\n",
    "for epoch in range(training_cfg[\"n_epochs\"]):\n",
    "    for i, (inputs, target_labels, boxes, metadata) in enumerate(train_dataloader):\n",
    "        optimizer.zero_grad()\n",
    "        \n",
    "        inputs['input_ids'] = inputs['input_ids'].view(-1,16)\n",
    "        inputs['attention_mask'] = inputs['attention_mask'].view(-1,16)\n",
    "        \n",
    "        inputs = inputs.to(device)\n",
    "        \n",
    "        outputs = model(**inputs)\n",
    "        \n",
    "        \n",
    "        logits = outputs[\"logits\"]\n",
    "        pred_boxes = outputs[\"pred_boxes\"]\n",
    "        \n",
    "        batch_size = boxes.shape[0]\n",
    "        \n",
    "        target_labels = target_labels.to(device)\n",
    "        boxes = boxes.to(device)\n",
    "        \n",
    "        loss = criterion(logits, pred_boxes, boxes, target_labels, metadata)\n",
    "        loss.backward()\n",
    "        optimizer.step()\n",
    "        progress_bar.update(1)\n",
    "        progress_bar.set_description(f\"Loss: {loss.item():.3f}\")"
   ]
  },
  {
   "cell_type": "code",
   "execution_count": null,
   "metadata": {},
   "outputs": [],
   "source": [
    "pred_boxes[:, :, 2:].shape"
   ]
  },
  {
   "cell_type": "code",
   "execution_count": null,
   "metadata": {},
   "outputs": [],
   "source": [
    "target_labels = nn.functional.one_hot(torch.zeros(1).to(torch.int64), num_classes=num_queries).to(device)\n",
    "target_labels = target_labels.repeat(batch_size,1,1)"
   ]
  },
  {
   "cell_type": "code",
   "execution_count": null,
   "metadata": {},
   "outputs": [],
   "source": [
    "inputs[\"input_ids\"].shape"
   ]
  },
  {
   "cell_type": "code",
   "execution_count": 2,
   "metadata": {},
   "outputs": [],
   "source": [
    "from datetime import datetime"
   ]
  },
  {
   "cell_type": "code",
   "execution_count": 6,
   "metadata": {},
   "outputs": [
    {
     "data": {
      "text/plain": [
       "'20231116_0021'"
      ]
     },
     "execution_count": 6,
     "metadata": {},
     "output_type": "execute_result"
    }
   ],
   "source": [
    "datetime.now().strftime(\"%Y%m%d_%H%M\")"
   ]
  },
  {
   "cell_type": "code",
   "execution_count": 7,
   "metadata": {},
   "outputs": [
    {
     "name": "stdout",
     "output_type": "stream",
     "text": [
      "  0%|                                                  | 0/4500 [00:00<?, ?it/s]\u001b[34m\u001b[1mwandb\u001b[0m: Currently logged in as: \u001b[33msharad-dargan\u001b[0m (\u001b[33ma-is-all-we-need\u001b[0m). Use \u001b[1m`wandb login --relogin`\u001b[0m to force relogin\n",
      "\u001b[34m\u001b[1mwandb\u001b[0m: Tracking run with wandb version 0.16.0\n",
      "\u001b[34m\u001b[1mwandb\u001b[0m: Run data is saved locally in \u001b[35m\u001b[1m/scratch/sd5251/cap/OWL4PACO/OWL-ViT-Object-Detection/wandb/run-20231120_215719-nulxo1xy\u001b[0m\n",
      "\u001b[34m\u001b[1mwandb\u001b[0m: Run \u001b[1m`wandb offline`\u001b[0m to turn off syncing.\n",
      "\u001b[34m\u001b[1mwandb\u001b[0m: Syncing run \u001b[33mfancy-valley-4\u001b[0m\n",
      "\u001b[34m\u001b[1mwandb\u001b[0m: ⭐️ View project at \u001b[34m\u001b[4mhttps://wandb.ai/a-is-all-we-need/owl-vit\u001b[0m\n",
      "\u001b[34m\u001b[1mwandb\u001b[0m: 🚀 View run at \u001b[34m\u001b[4mhttps://wandb.ai/a-is-all-we-need/owl-vit/runs/nulxo1xy\u001b[0m\n",
      "Loss: 0.039:   8%|██▎                        | 375/4500 [05:17<58:34,  1.17it/s]Loss: 0.088, Focal Loss: 0.224, BBox Loss: 0.002, GIOU Loss: -0.002\n",
      "Loss: 0.077:  17%|████▌                      | 750/4500 [10:07<49:58,  1.25it/s]Loss: 0.025, Focal Loss: 0.036, BBox Loss: 0.002, GIOU Loss: -0.002\n",
      "Loss: 0.026:  25%|██████▌                   | 1125/4500 [14:57<42:25,  1.33it/s]Loss: 0.020, Focal Loss: 0.021, BBox Loss: 0.002, GIOU Loss: -0.002\n",
      "Loss: 0.007:  33%|████████▋                 | 1500/4500 [19:47<37:44,  1.32it/s]Loss: 0.019, Focal Loss: 0.017, BBox Loss: 0.002, GIOU Loss: -0.002\n",
      "Loss: -0.010:  42%|██████████▍              | 1875/4500 [24:55<32:15,  1.36it/s]Loss: 0.018, Focal Loss: 0.013, BBox Loss: 0.002, GIOU Loss: -0.002\n",
      "Loss: 0.028:  50%|█████████████             | 2250/4500 [30:04<29:10,  1.29it/s]Loss: 0.017, Focal Loss: 0.011, BBox Loss: 0.002, GIOU Loss: -0.002\n",
      "Loss: -0.040:  58%|██████████████▌          | 2625/4500 [36:27<30:22,  1.03it/s]Loss: 0.016, Focal Loss: 0.008, BBox Loss: 0.002, GIOU Loss: -0.002\n",
      "Loss: 0.027:  67%|█████████████████▎        | 3000/4500 [44:00<32:09,  1.29s/it]Loss: 0.015, Focal Loss: 0.006, BBox Loss: 0.002, GIOU Loss: -0.002\n",
      "Loss: -0.001:  71%|█████████████████▋       | 3182/4500 [48:33<29:18,  1.33s/it]^C\n"
     ]
    }
   ],
   "source": [
    "! python3 main.py"
   ]
  },
  {
   "cell_type": "code",
   "execution_count": null,
   "metadata": {},
   "outputs": [],
   "source": []
  }
 ],
 "metadata": {
  "kernelspec": {
   "display_name": "OWL (Steve Bottos)",
   "language": "python",
   "name": "owl_boto"
  },
  "language_info": {
   "codemirror_mode": {
    "name": "ipython",
    "version": 3
   },
   "file_extension": ".py",
   "mimetype": "text/x-python",
   "name": "python",
   "nbconvert_exporter": "python",
   "pygments_lexer": "ipython3",
   "version": "3.10.13"
  }
 },
 "nbformat": 4,
 "nbformat_minor": 4
}
