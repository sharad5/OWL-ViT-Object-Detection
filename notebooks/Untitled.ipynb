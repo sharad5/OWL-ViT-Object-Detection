{
 "cells": [
  {
   "cell_type": "code",
   "execution_count": 5,
   "metadata": {
    "scrolled": false
   },
   "outputs": [
    {
     "name": "stdout",
     "output_type": "stream",
     "text": [
      "  0%|                                                  | 0/4500 [00:00<?, ?it/s]\u001b[34m\u001b[1mwandb\u001b[0m: Currently logged in as: \u001b[33msharad-dargan\u001b[0m (\u001b[33ma-is-all-we-need\u001b[0m). Use \u001b[1m`wandb login --relogin`\u001b[0m to force relogin\n",
      "\u001b[34m\u001b[1mwandb\u001b[0m: Tracking run with wandb version 0.16.0\n",
      "\u001b[34m\u001b[1mwandb\u001b[0m: Run data is saved locally in \u001b[35m\u001b[1m/scratch/sd5251/cap/OWL4PACO/OWL-ViT-Object-Detection/wandb/run-20231121_185136-6jhe4574\u001b[0m\n",
      "\u001b[34m\u001b[1mwandb\u001b[0m: Run \u001b[1m`wandb offline`\u001b[0m to turn off syncing.\n",
      "\u001b[34m\u001b[1mwandb\u001b[0m: Syncing run \u001b[33mtreasured-dust-11\u001b[0m\n",
      "\u001b[34m\u001b[1mwandb\u001b[0m: ⭐️ View project at \u001b[34m\u001b[4mhttps://wandb.ai/a-is-all-we-need/owl-vit\u001b[0m\n",
      "\u001b[34m\u001b[1mwandb\u001b[0m: 🚀 View run at \u001b[34m\u001b[4mhttps://wandb.ai/a-is-all-we-need/owl-vit/runs/6jhe4574\u001b[0m\n",
      "Loss: 0.041:   8%|██▎                        | 375/4500 [06:36<56:22,  1.22it/s]Loss: 0.110, Focal Loss: 0.288, BBox Loss: 0.002, GIOU Loss: -0.002\n",
      "Loss: 0.060:  17%|████▌                      | 750/4500 [13:40<52:17,  1.20it/s]Loss: 0.036, Focal Loss: 0.068, BBox Loss: 0.002, GIOU Loss: -0.001\n",
      "Loss: -0.008:  25%|██████▎                  | 1125/4500 [20:47<48:16,  1.17it/s]Loss: 0.029, Focal Loss: 0.046, BBox Loss: 0.002, GIOU Loss: -0.002\n",
      "Loss: -0.039:  33%|████████▎                | 1500/4500 [27:50<45:12,  1.11it/s]Loss: 0.024, Focal Loss: 0.032, BBox Loss: 0.002, GIOU Loss: -0.002\n",
      "Loss: 0.014:  42%|██████████▊               | 1875/4500 [34:47<39:14,  1.11it/s]Loss: 0.020, Focal Loss: 0.020, BBox Loss: 0.002, GIOU Loss: -0.002\n",
      "Loss: 0.029:  50%|█████████████             | 2250/4500 [42:00<30:58,  1.21it/s]Loss: 0.021, Focal Loss: 0.022, BBox Loss: 0.002, GIOU Loss: -0.002\n",
      "Loss: 0.004:  58%|███████████████▏          | 2625/4500 [48:51<26:33,  1.18it/s]Loss: 0.022, Focal Loss: 0.026, BBox Loss: 0.002, GIOU Loss: -0.002\n",
      "Loss: 0.063:  67%|█████████████████▎        | 3000/4500 [55:42<22:17,  1.12it/s]Loss: 0.019, Focal Loss: 0.015, BBox Loss: 0.003, GIOU Loss: -0.002\n",
      "Loss: -0.005:  75%|█████████████████▎     | 3375/4500 [1:02:56<15:29,  1.21it/s]Loss: 0.017, Focal Loss: 0.010, BBox Loss: 0.002, GIOU Loss: -0.002\n",
      "Loss: 0.012:  83%|████████████████████    | 3750/4500 [1:09:55<10:31,  1.19it/s]Loss: 0.015, Focal Loss: 0.005, BBox Loss: 0.002, GIOU Loss: -0.002\n",
      "Loss: 0.085:  92%|██████████████████████  | 4125/4500 [1:16:49<05:10,  1.21it/s]Loss: 0.017, Focal Loss: 0.010, BBox Loss: 0.002, GIOU Loss: -0.002\n",
      "Loss: -0.033: 100%|███████████████████████| 4500/4500 [1:23:43<00:00,  1.13it/s]Loss: 0.015, Focal Loss: 0.006, BBox Loss: 0.002, GIOU Loss: -0.002\n",
      "\u001b[34m\u001b[1mwandb\u001b[0m: - 0.006 MB of 0.006 MB uploaded\n",
      "\u001b[34m\u001b[1mwandb\u001b[0m: Run history:\n",
      "\u001b[34m\u001b[1mwandb\u001b[0m:              bbox_loss ▂▄▄▄▄▄▅▅▅▃▃▆▃▆▄▅▅▅▃▅▂▇▆▄▃█▇▄▄▄▁█▅▃▄▄▃▅▄▅\n",
      "\u001b[34m\u001b[1mwandb\u001b[0m:  epoch_train_bbox_loss ▄▁▅▂▂▆▅█▄▆▄▂\n",
      "\u001b[34m\u001b[1mwandb\u001b[0m: epoch_train_focal_loss █▃▂▂▁▁▂▁▁▁▁▁\n",
      "\u001b[34m\u001b[1mwandb\u001b[0m:  epoch_train_giou_loss ▄█▁▂▅▃▂▃▂▁█▃\n",
      "\u001b[34m\u001b[1mwandb\u001b[0m:       epoch_train_loss █▃▂▂▁▁▂▁▁▁▁▁\n",
      "\u001b[34m\u001b[1mwandb\u001b[0m:         epoch_val_loss ▇▅▇▅█▄▄▂▂▂▂▁\n",
      "\u001b[34m\u001b[1mwandb\u001b[0m:             focal_loss ▇▄█▅▃▃▂▃▃▄▃▄▁▁▁▃▁▁▂▂▁▄▂▃▁▁▁▂▁▁▁▁▁▁▁▁▁▁▁▁\n",
      "\u001b[34m\u001b[1mwandb\u001b[0m:              giou_loss ▂▃▆▅▃▅▄▄▃▅▅▂▂▃▁▄▃▅▄▃▆▅▂▂▄▂▂▂▄▁▅▁▁█▂▅▃▁▆▆\n",
      "\u001b[34m\u001b[1mwandb\u001b[0m:             train_loss ▃▄█▆▃▅▅▆▄▄▄▅▁▄▁▅▃▅▃▄▄█▄▄▃▅▅▂▄▁▂▅▂▆▂▄▂▂▅▆\n",
      "\u001b[34m\u001b[1mwandb\u001b[0m: \n",
      "\u001b[34m\u001b[1mwandb\u001b[0m: Run summary:\n",
      "\u001b[34m\u001b[1mwandb\u001b[0m:              bbox_loss 0.72333\n",
      "\u001b[34m\u001b[1mwandb\u001b[0m:  epoch_train_bbox_loss 0.00193\n",
      "\u001b[34m\u001b[1mwandb\u001b[0m: epoch_train_focal_loss 0.00616\n",
      "\u001b[34m\u001b[1mwandb\u001b[0m:  epoch_train_giou_loss -0.0022\n",
      "\u001b[34m\u001b[1mwandb\u001b[0m:       epoch_train_loss 0.01547\n",
      "\u001b[34m\u001b[1mwandb\u001b[0m:         epoch_val_loss 0.0032\n",
      "\u001b[34m\u001b[1mwandb\u001b[0m:             focal_loss 0.00321\n",
      "\u001b[34m\u001b[1mwandb\u001b[0m:              giou_loss -0.82409\n",
      "\u001b[34m\u001b[1mwandb\u001b[0m:             train_loss -0.03252\n",
      "\u001b[34m\u001b[1mwandb\u001b[0m: \n",
      "\u001b[34m\u001b[1mwandb\u001b[0m: 🚀 View run \u001b[33mtreasured-dust-11\u001b[0m at: \u001b[34m\u001b[4mhttps://wandb.ai/a-is-all-we-need/owl-vit/runs/6jhe4574\u001b[0m\n",
      "\u001b[34m\u001b[1mwandb\u001b[0m: ️⚡ View job at \u001b[34m\u001b[4mhttps://wandb.ai/a-is-all-we-need/owl-vit/jobs/QXJ0aWZhY3RDb2xsZWN0aW9uOjExNzYxMTcxNQ==/version_details/v2\u001b[0m\n",
      "\u001b[34m\u001b[1mwandb\u001b[0m: Synced 6 W&B file(s), 0 media file(s), 2 artifact file(s) and 0 other file(s)\n",
      "\u001b[34m\u001b[1mwandb\u001b[0m: Find logs at: \u001b[35m\u001b[1m./wandb/run-20231121_185136-6jhe4574/logs\u001b[0m\n"
     ]
    }
   ],
   "source": [
    "! python main.py"
   ]
  },
  {
   "cell_type": "code",
   "execution_count": 4,
   "metadata": {},
   "outputs": [],
   "source": [
    "import json"
   ]
  },
  {
   "cell_type": "code",
   "execution_count": null,
   "metadata": {},
   "outputs": [],
   "source": [
    "json.loads()"
   ]
  },
  {
   "cell_type": "code",
   "execution_count": null,
   "metadata": {},
   "outputs": [],
   "source": [
    "model = OwlViTForObjectDetection.from_pretrained(model_checkpoint)\n",
    "model.load_state_dict(torch.load(pt_model_path))"
   ]
  },
  {
   "cell_type": "code",
   "execution_count": null,
   "metadata": {},
   "outputs": [],
   "source": []
  }
 ],
 "metadata": {
  "kernelspec": {
   "display_name": "OWL (Steve Bottos)",
   "language": "python",
   "name": "owl_boto"
  },
  "language_info": {
   "codemirror_mode": {
    "name": "ipython",
    "version": 3
   },
   "file_extension": ".py",
   "mimetype": "text/x-python",
   "name": "python",
   "nbconvert_exporter": "python",
   "pygments_lexer": "ipython3",
   "version": "3.10.13"
  }
 },
 "nbformat": 4,
 "nbformat_minor": 4
}
