{
 "cells": [
  {
   "cell_type": "code",
   "execution_count": 1,
   "metadata": {},
   "outputs": [
    {
     "name": "stderr",
     "output_type": "stream",
     "text": [
      "/ext3/miniconda3/envs/owl_boto/lib/python3.10/site-packages/tqdm/auto.py:21: TqdmWarning: IProgress not found. Please update jupyter and ipywidgets. See https://ipywidgets.readthedocs.io/en/stable/user_install.html\n",
      "  from .autonotebook import tqdm as notebook_tqdm\n"
     ]
    }
   ],
   "source": [
    "import json\n",
    "import os\n",
    "from collections import Counter\n",
    "from tqdm import tqdm\n",
    "from collections import defaultdict\n",
    "\n",
    "import numpy as np\n",
    "import torch\n",
    "import yaml\n",
    "from PIL import Image\n",
    "from torch.utils.data import DataLoader, Dataset\n",
    "from transformers import OwlViTProcessor"
   ]
  },
  {
   "cell_type": "code",
   "execution_count": 2,
   "metadata": {},
   "outputs": [],
   "source": [
    "TRAIN_ANNOTATIONS_FILE = \"/scratch/hk3820/capstone/data/paco_annotations/paco_ego4d_v1_train.json\"\n",
    "VAL_ANNOTATIONS_FILE = \"/scratch/hk3820/capstone/data/paco_annotations/paco_ego4d_v1_val.json\"\n",
    "IMAGES_PATH = \"/scratch/hk3820/capstone/data/paco_frames/v1/paco_frames\""
   ]
  },
  {
   "cell_type": "code",
   "execution_count": 3,
   "metadata": {},
   "outputs": [],
   "source": [
    "annotations_file = VAL_ANNOTATIONS_FILE"
   ]
  },
  {
   "cell_type": "code",
   "execution_count": 4,
   "metadata": {},
   "outputs": [],
   "source": [
    "with open(annotations_file) as f:\n",
    "    data = json.load(f)\n",
    "    n_total = len(data)"
   ]
  },
  {
   "cell_type": "code",
   "execution_count": 50,
   "metadata": {},
   "outputs": [],
   "source": [
    "train_data = {\"annotations\": []}\n",
    "for ann in data[\"annotations\"][:200]:\n",
    "    try:\n",
    "        image = [img for img in data[\"images\"] if img[\"id\"] == ann[\"image_id\"]][0]\n",
    "        bbox = ann[\"bbox\"]\n",
    "        ann_color = [attr[\"name\"] for attr in data[\"attributes\"] if attr[\"id\"] == ann[\"attribute_ids\"][0]][0]\n",
    "        ann_category = [cat[\"name\"] for cat in data['categories'] if cat[\"id\"]==ann[\"category_id\"]][0]\n",
    "        pos_queries = [\" \".join([\"A\", ann_color, ann_category])]\n",
    "        \n",
    "        random_chosen_color_id = np.random.choice(attr_type_to_attr_idxs[\"color\"])\n",
    "        random_chosen_color = [attr[\"name\"] for attr in data[\"attributes\"] if attr[\"id\"] == random_chosen_color_id][0]\n",
    "        \n",
    "        random_neg_categories = [cat[\"name\"] \n",
    "                               for cat in data['categories'] \n",
    "                               if (cat[\"id\"] in image[\"neg_category_ids\"]) and (cat[\"supercategory\"]==\"OBJECT\")]\n",
    "        random_neg_category = np.random.choice(random_neg_categories)\n",
    "        neg_queries = [\" \".join([\"A\", random_chosen_color, random_neg_category])]*2\n",
    "        train_example = {\n",
    "            \"image_file_name\": image[\"file_name\"],\n",
    "            \"bbox\": bbox,\n",
    "            \"pos_queries\": pos_queries,\n",
    "            \"neg_queries\": neg_queries\n",
    "        }\n",
    "        train_data[\"annotations\"].append(train_example)\n",
    "    except:\n",
    "        continue"
   ]
  },
  {
   "cell_type": "code",
   "execution_count": 52,
   "metadata": {},
   "outputs": [],
   "source": [
    "with open('ego4d_dummy_train.json', 'w') as out_file:\n",
    "     json.dump(train_data, out_file, indent = 4, ensure_ascii = False)"
   ]
  },
  {
   "cell_type": "code",
   "execution_count": null,
   "metadata": {},
   "outputs": [],
   "source": [
    "class OwlDataset(Dataset):\n",
    "    def __init__(self, owl_processor, annotations_file):\n",
    "        self.images_dir = IMAGES_PATH\n",
    "        self.owl_processor = owl_processor\n",
    "\n",
    "        with open(annotations_file) as f:\n",
    "            data = json.load(f)\n",
    "\n",
    "        self.\n",
    "\n",
    "    def load_image(self, idx: int) -> Image.Image:\n",
    "        url = list(self.data[idx].keys()).pop()\n",
    "        path = os.path.join(self.images_dir, os.path.basename(url))\n",
    "        image = Image.open(path).convert(\"RGB\")\n",
    "        return image, path\n",
    "\n",
    "    def load_target(self, idx: int):\n",
    "        annotations = list(self.data[idx].values())\n",
    "\n",
    "        # values results in a nested list\n",
    "        assert len(annotations) == 1\n",
    "        annotations = annotations.pop()\n",
    "\n",
    "        labels = []\n",
    "        boxes = []\n",
    "        for annotation in annotations:\n",
    "            labels.append(annotation[\"label\"])\n",
    "            boxes.append(annotation[\"bbox\"])\n",
    "\n",
    "        return labels, boxes\n",
    "\n",
    "    def __len__(self):\n",
    "        return len(self.data)\n",
    "\n",
    "    def __getitem__(self, idx):\n",
    "        image, path = self.load_image(idx)\n",
    "        labels, boxes = self.load_target(idx)\n",
    "        w, h = image.size\n",
    "        metadata = {\n",
    "            \"width\": w,\n",
    "            \"height\": h,\n",
    "            \"impath\": path,\n",
    "        }\n",
    "        image = self.image_processor(images=image, return_tensors=\"pt\")[\n",
    "            \"pixel_values\"\n",
    "        ].squeeze(0)\n",
    "\n",
    "        return image, torch.tensor(labels), torch.tensor(boxes), metadata\n",
    "\n",
    "\n",
    "def get_dataloaders(\n",
    "    train_annotations_file=TRAIN_ANNOTATIONS_FILE,\n",
    "    test_annotations_file=TEST_ANNOTATIONS_FILE,\n",
    "):\n",
    "    image_processor = OwlViTProcessor.from_pretrained(\"google/owlvit-base-patch32\")\n",
    "\n",
    "    train_dataset = OwlDataset(image_processor, train_annotations_file)\n",
    "    test_dataset = OwlDataset(image_processor, test_annotations_file)\n",
    "\n",
    "    with open(LABELMAP_FILE) as f:\n",
    "        labelmap = json.load(f)\n",
    "\n",
    "    train_labelcounts = Counter()\n",
    "    for i in range(len(train_dataset)):\n",
    "        train_labelcounts.update(train_dataset.load_target(i)[0])\n",
    "\n",
    "    # scales must be in order\n",
    "    scales = []\n",
    "    for i in sorted(list(train_labelcounts.keys())):\n",
    "        scales.append(train_labelcounts[i])\n",
    "\n",
    "    scales = np.array(scales)\n",
    "    scales = (np.round(np.log(scales.max() / scales) + 3, 1)).tolist()\n",
    "\n",
    "    train_labelcounts = {}\n",
    "    train_dataloader = DataLoader(\n",
    "        train_dataset, batch_size=1, shuffle=True, num_workers=4\n",
    "    )\n",
    "    test_dataloader = DataLoader(\n",
    "        test_dataset, batch_size=1, shuffle=False, num_workers=4\n",
    "    )\n",
    "\n",
    "    return train_dataloader, test_dataloader, scales, labelmap\n"
   ]
  },
  {
   "cell_type": "code",
   "execution_count": null,
   "metadata": {},
   "outputs": [],
   "source": []
  },
  {
   "cell_type": "code",
   "execution_count": 15,
   "metadata": {},
   "outputs": [],
   "source": [
    "a = np.array([True,False])"
   ]
  },
  {
   "cell_type": "code",
   "execution_count": 20,
   "metadata": {},
   "outputs": [
    {
     "data": {
      "text/plain": [
       "array([[False],\n",
       "       [ True]])"
      ]
     },
     "execution_count": 20,
     "metadata": {},
     "output_type": "execute_result"
    }
   ],
   "source": [
    "np.expand_dims(~a, -1)"
   ]
  },
  {
   "cell_type": "code",
   "execution_count": 18,
   "metadata": {},
   "outputs": [
    {
     "data": {
      "text/plain": [
       "(2,)"
      ]
     },
     "execution_count": 18,
     "metadata": {},
     "output_type": "execute_result"
    }
   ],
   "source": [
    "a.shape"
   ]
  },
  {
   "cell_type": "code",
   "execution_count": null,
   "metadata": {},
   "outputs": [],
   "source": []
  }
 ],
 "metadata": {
  "kernelspec": {
   "display_name": "OWL (Steve Bottos)",
   "language": "python",
   "name": "owl_boto"
  },
  "language_info": {
   "codemirror_mode": {
    "name": "ipython",
    "version": 3
   },
   "file_extension": ".py",
   "mimetype": "text/x-python",
   "name": "python",
   "nbconvert_exporter": "python",
   "pygments_lexer": "ipython3",
   "version": "3.10.13"
  }
 },
 "nbformat": 4,
 "nbformat_minor": 4
}
