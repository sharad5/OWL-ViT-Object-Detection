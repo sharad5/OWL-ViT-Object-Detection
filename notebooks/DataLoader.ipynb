{
 "cells": [
  {
   "cell_type": "code",
   "execution_count": 1,
   "metadata": {},
   "outputs": [
    {
     "name": "stderr",
     "output_type": "stream",
     "text": [
      "/ext3/miniconda3/envs/owl_boto/lib/python3.10/site-packages/tqdm/auto.py:21: TqdmWarning: IProgress not found. Please update jupyter and ipywidgets. See https://ipywidgets.readthedocs.io/en/stable/user_install.html\n",
      "  from .autonotebook import tqdm as notebook_tqdm\n"
     ]
    }
   ],
   "source": [
    "import json\n",
    "import os\n",
    "from collections import Counter\n",
    "from tqdm import tqdm\n",
    "from collections import defaultdict\n",
    "\n",
    "import numpy as np\n",
    "import torch\n",
    "import yaml\n",
    "from PIL import Image\n",
    "from torch.utils.data import DataLoader, Dataset\n",
    "from transformers import OwlViTProcessor"
   ]
  },
  {
   "cell_type": "code",
   "execution_count": 2,
   "metadata": {},
   "outputs": [],
   "source": [
    "TRAIN_ANNOTATIONS_FILE = \"data/ego4d_dummy_train.json\"\n",
    "# VAL_ANNOTATIONS_FILE = \"/scratch/hk3820/capstone/data/paco_annotations/paco_ego4d_v1_val.json\"\n",
    "IMAGES_PATH = \"/scratch/hk3820/capstone/data/paco_frames/v1/paco_frames\""
   ]
  },
  {
   "cell_type": "code",
   "execution_count": 26,
   "metadata": {},
   "outputs": [],
   "source": [
    "class OwlDataset(Dataset):\n",
    "    def __init__(self, processor, annotations_file):\n",
    "        self.images_dir = IMAGES_PATH\n",
    "        self.processor = processor\n",
    "        annotations_file = annotations_file\n",
    "\n",
    "        with open(annotations_file) as f:\n",
    "            data = json.load(f)[\"annotations\"]\n",
    "\n",
    "        self.data = data\n",
    "\n",
    "    def load_image(self, idx: int) -> Image.Image:\n",
    "        url = self.data[idx][\"image_file_name\"]\n",
    "        path = os.path.join(self.images_dir, os.path.basename(url))\n",
    "        image = Image.open(path).convert(\"RGB\")\n",
    "        return image, path\n",
    "\n",
    "    def load_target(self, idx: int):\n",
    "        text = [self.data[idx][\"pos_queries\"] + self.data[idx][\"neg_queries\"]]\n",
    "        return text, self.data[idx][\"bbox\"]\n",
    "\n",
    "    def __len__(self):\n",
    "        return len(self.data)\n",
    "\n",
    "    def __getitem__(self, idx):\n",
    "        image, path = self.load_image(idx)\n",
    "        text, bbox = self.load_target(idx)\n",
    "        w, h = image.size\n",
    "        metadata = {\n",
    "            \"width\": w,\n",
    "            \"height\": h,\n",
    "            \"impath\": path,\n",
    "        }\n",
    "        \n",
    "        inputs = self.processor(text=text, images=image, return_tensors=\"pt\")\n",
    "        inputs['pixel_values'] = inputs['pixel_values'].squeeze(0)\n",
    "        return inputs, torch.tensor(bbox), metadata\n"
   ]
  },
  {
   "cell_type": "code",
   "execution_count": 27,
   "metadata": {},
   "outputs": [],
   "source": [
    "processor = OwlViTProcessor.from_pretrained(\"google/owlvit-base-patch32\")"
   ]
  },
  {
   "cell_type": "code",
   "execution_count": 28,
   "metadata": {},
   "outputs": [],
   "source": [
    "train_dataset = OwlDataset(processor, TRAIN_ANNOTATIONS_FILE)"
   ]
  },
  {
   "cell_type": "code",
   "execution_count": 29,
   "metadata": {},
   "outputs": [],
   "source": [
    "inputs, bb, metadata = train_dataset[0]"
   ]
  },
  {
   "cell_type": "code",
   "execution_count": 30,
   "metadata": {},
   "outputs": [
    {
     "data": {
      "text/plain": [
       "torch.Size([3, 768, 768])"
      ]
     },
     "execution_count": 30,
     "metadata": {},
     "output_type": "execute_result"
    }
   ],
   "source": [
    "inputs['pixel_values'].shape"
   ]
  },
  {
   "cell_type": "code",
   "execution_count": 31,
   "metadata": {},
   "outputs": [
    {
     "data": {
      "text/plain": [
       "torch.Size([3, 16])"
      ]
     },
     "execution_count": 31,
     "metadata": {},
     "output_type": "execute_result"
    }
   ],
   "source": [
    "inputs['input_ids'].shape"
   ]
  },
  {
   "cell_type": "code",
   "execution_count": 32,
   "metadata": {},
   "outputs": [
    {
     "data": {
      "text/plain": [
       "199"
      ]
     },
     "execution_count": 32,
     "metadata": {},
     "output_type": "execute_result"
    }
   ],
   "source": [
    "len(train_dataset)"
   ]
  },
  {
   "cell_type": "code",
   "execution_count": 10,
   "metadata": {},
   "outputs": [],
   "source": [
    "train_dataset = OwlDataset(processor, TRAIN_ANNOTATIONS_FILE)"
   ]
  },
  {
   "cell_type": "code",
   "execution_count": 7,
   "metadata": {},
   "outputs": [],
   "source": [
    "test_dataset = OwlDataset(processor, TRAIN_ANNOTATIONS_FILE)"
   ]
  },
  {
   "cell_type": "code",
   "execution_count": 22,
   "metadata": {},
   "outputs": [],
   "source": [
    "train_dataloader = DataLoader(train_dataset, batch_size=5, shuffle=True, num_workers=1)"
   ]
  },
  {
   "cell_type": "code",
   "execution_count": 14,
   "metadata": {},
   "outputs": [],
   "source": [
    "test_dataloader = DataLoader(test_dataset, batch_size=5, shuffle=True, num_workers=1)"
   ]
  },
  {
   "cell_type": "code",
   "execution_count": 26,
   "metadata": {},
   "outputs": [
    {
     "data": {
      "text/plain": [
       "<torch.utils.data.dataloader.DataLoader at 0x147d28827520>"
      ]
     },
     "execution_count": 26,
     "metadata": {},
     "output_type": "execute_result"
    }
   ],
   "source": []
  },
  {
   "cell_type": "code",
   "execution_count": 27,
   "metadata": {},
   "outputs": [],
   "source": [
    "def get_dataloaders():\n",
    "    processor = OwlViTProcessor.from_pretrained(\"google/owlvit-base-patch32\")\n",
    "    train_dataset = OwlDataset(processor, TRAIN_ANNOTATIONS_FILE)\n",
    "    test_dataset = OwlDataset(processor, TRAIN_ANNOTATIONS_FILE)\n",
    "    \n",
    "    train_dataloader = DataLoader(train_dataset, batch_size=5, shuffle=True, num_workers=1)\n",
    "    test_dataloader = DataLoader(test_dataset, batch_size=5, shuffle=True, num_workers=1)\n",
    "    return train_dataloader, test_dataloader"
   ]
  },
  {
   "cell_type": "code",
   "execution_count": 28,
   "metadata": {},
   "outputs": [],
   "source": [
    "train_dataloader, test_dataloader = get_dataloaders()"
   ]
  },
  {
   "cell_type": "code",
   "execution_count": null,
   "metadata": {},
   "outputs": [],
   "source": []
  }
 ],
 "metadata": {
  "kernelspec": {
   "display_name": "OWL (Steve Bottos)",
   "language": "python",
   "name": "owl_boto"
  },
  "language_info": {
   "codemirror_mode": {
    "name": "ipython",
    "version": 3
   },
   "file_extension": ".py",
   "mimetype": "text/x-python",
   "name": "python",
   "nbconvert_exporter": "python",
   "pygments_lexer": "ipython3",
   "version": "3.10.13"
  }
 },
 "nbformat": 4,
 "nbformat_minor": 4
}
